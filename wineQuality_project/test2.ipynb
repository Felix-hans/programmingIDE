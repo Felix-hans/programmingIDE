{
  "cells": [
    {
      "attachments": {},
      "cell_type": "markdown",
      "metadata": {},
      "source": [
        "# Identify Primes with Different Approach"
      ]
    },
    {
      "attachments": {},
      "cell_type": "markdown",
      "metadata": {},
      "source": [
        "## Sure, here's another implementation that uses the square root to check for prime numbers."
      ]
    },
    {
      "cell_type": "code",
      "execution_count": null,
      "metadata": {},
      "outputs": [],
      "source": [
        "import math\n",
        "\n",
        "def is_prime(num):\n",
        "  if num <= 1:\n",
        "    return False\n",
        "  \n",
        "  max_divisor = math.floor(math.sqrt(num))\n",
        "  \n",
        "  for i in range(2, 1 + max_divisor):\n",
        "    if num % i == 0:\n",
        "      return False\n",
        "  \n",
        "  return True\n",
        "\n",
        "#testing the function on simple cases\n",
        "\n",
        "for i in range(20):\n",
        "  if is_prime(i):\n",
        "    print(i)"
      ]
    },
    {
      "attachments": {},
      "cell_type": "markdown",
      "metadata": {},
      "source": [
        "# Identify Primes with Different Approach"
      ]
    },
    {
      "attachments": {},
      "cell_type": "markdown",
      "metadata": {},
      "source": [
        "## Sure, here's another implementation that uses the square root to check for prime numbers."
      ]
    },
    {
      "cell_type": "code",
      "execution_count": null,
      "metadata": {},
      "outputs": [],
      "source": [
        "import math\n",
        "\n",
        "def is_prime(num):\n",
        "  if num <= 1:\n",
        "    return False\n",
        "  \n",
        "  max_divisor = math.floor(math.sqrt(num))\n",
        "  \n",
        "  for i in range(2, 1 + max_divisor):\n",
        "    if num % i == 0:\n",
        "      return False\n",
        "  \n",
        "  return True\n",
        "\n",
        "#testing the function on simple cases\n",
        "\n",
        "for i in range(20):\n",
        "  if is_prime(i):\n",
        "    print(i)"
      ]
    },
    {
      "cell_type": "markdown",
      "metadata": {},
      "source": [
        "# Identify Primes with Different Approach"
      ]
    },
    {
      "cell_type": "markdown",
      "metadata": {},
      "source": [
        "## Sure, here's another implementation that uses the square root to check for prime numbers."
      ]
    },
    {
      "cell_type": "code",
      "execution_count": null,
      "metadata": {},
      "outputs": [],
      "source": [
        "import math\n\ndef is_prime(num):\n  if num <= 1:\n    return False\n  \n  max_divisor = math.floor(math.sqrt(num))\n  \n  for i in range(2, 1 + max_divisor):\n    if num % i == 0:\n      return False\n  \n  return True\n\n#testing the function on simple cases\n\nfor i in range(20):\n  if is_prime(i):\n    print(i)"
      ]
    }
  ],
  "metadata": {
    "kernelspec": {
      "display_name": "Python 3.10.4 64-bit ('06_Python': conda)",
      "name": "python3104jvsc74a57bd03a238d6be1bf9734f7b86a2f67715b70ef9d1c14783f39e39aea6e504d509c98"
    },
    "language_info": {
      "codemirror_mode": {
        "name": "ipython",
        "version": 3
      },
      "file_extension": ".py",
      "mimetype": "text/x-python",
      "name": "python",
      "nbconvert_exporter": "python",
      "pygments_lexer": "ipython3",
      "version": "3.10.4"
    },
    "metadata": {
      "interpreter": {
        "hash": "3a238d6be1bf9734f7b86a2f67715b70ef9d1c14783f39e39aea6e504d509c98"
      }
    },
    "vscode": {
      "interpreter": {
        "hash": "f10edc94547cd3e83a546e846b29af1ea23fe4c72b7e79cca79d38b77bce45a1"
      }
    }
  },
  "nbformat": 4,
  "nbformat_minor": 4
}