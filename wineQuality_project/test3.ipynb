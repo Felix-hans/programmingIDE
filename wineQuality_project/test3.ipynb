{
  "cells": [
    {
      "cell_type": "markdown",
      "metadata": {},
      "source": [
        "# This is a section"
      ]
    },
    {
      "cell_type": "markdown",
      "metadata": {},
      "source": [
        "## This is a subsection"
      ]
    },
    {
      "cell_type": "code",
      "execution_count": 1,
      "metadata": {},
      "outputs": [
        {
          "name": "stdout",
          "output_type": "stream",
          "text": [
            "test21111\n"
          ]
        }
      ],
      "source": [
        "print('This is a cell')"
      ]
    },
    {
      "cell_type": "code",
      "execution_count": 8,
      "metadata": {},
      "outputs": [
        {
          "name": "stdout",
          "output_type": "stream",
          "text": [
            "      fixed acidity  volatile acidity  citric acid  ...  sulphates  alcohol  quality\n",
            "0               7.4             0.700         0.00  ...       0.56      9.4        5\n",
            "1               7.8             0.880         0.00  ...       0.68      9.8        5\n",
            "2               7.8             0.760         0.04  ...       0.65      9.8        5\n",
            "3              11.2             0.280         0.56  ...       0.58      9.8        6\n",
            "4               7.4             0.700         0.00  ...       0.56      9.4        5\n",
            "...             ...               ...          ...  ...        ...      ...      ...\n",
            "1594            6.2             0.600         0.08  ...       0.58     10.5        5\n",
            "1595            5.9             0.550         0.10  ...       0.76     11.2        6\n",
            "1596            6.3             0.510         0.13  ...       0.75     11.0        6\n",
            "1597            5.9             0.645         0.12  ...       0.71     10.2        5\n",
            "1598            6.0             0.310         0.47  ...       0.66     11.0        6\n",
            "\n",
            "[1599 rows x 12 columns]\n",
            "testtest\n"
          ]
        }
      ],
      "source": [
        "import pandas as pd\n",
        "df = pd.read_csv('/Users/fhans/Documents/GenerativeBenchmarking/programmingIDE/wineQuality_project/winequality-red.csv',delimiter=';')\n",
        "print(df)\n",
        "print('test'+ \"test\")"
      ]
    },
    {
      "cell_type": "code",
      "execution_count": null,
      "metadata": {},
      "outputs": [],
      "source": []
    },
    {
      "cell_type": "markdown",
      "metadata": {},
      "source": [
        "This is just text"
      ]
    },
    {
      "cell_type": "markdown",
      "metadata": {},
      "source": [
        "# This is another section"
      ]
    },
    {
      "cell_type": "code",
      "execution_count": 2,
      "metadata": {},
      "outputs": [
        {
          "name": "stdout",
          "output_type": "stream",
          "text": [
            "and another cell\n"
          ]
        }
      ],
      "source": [
        "print('and another cell')"
      ]
    }
  ],
  "metadata": {
    "kernelspec": {
      "display_name": "Python 3.10.4 64-bit ('06_Python': conda)",
      "name": "python3104jvsc74a57bd03a238d6be1bf9734f7b86a2f67715b70ef9d1c14783f39e39aea6e504d509c98"
    },
    "language_info": {
      "codemirror_mode": {
        "name": "ipython",
        "version": 3
      },
      "file_extension": ".py",
      "mimetype": "text/x-python",
      "name": "python",
      "nbconvert_exporter": "python",
      "pygments_lexer": "ipython3",
      "version": "3.10.4"
    },
    "metadata": {
      "interpreter": {
        "hash": "3a238d6be1bf9734f7b86a2f67715b70ef9d1c14783f39e39aea6e504d509c98"
      }
    },
    "vscode": {
      "interpreter": {
        "hash": "f10edc94547cd3e83a546e846b29af1ea23fe4c72b7e79cca79d38b77bce45a1"
      }
    }
  },
  "nbformat": 4,
  "nbformat_minor": 4
}